{
 "cells": [
  {
   "cell_type": "code",
   "execution_count": 28,
   "id": "e961e71e-1597-4c6b-8bf6-e7a22d19e1b1",
   "metadata": {},
   "outputs": [],
   "source": [
    "import numpy as np\n",
    "import pandas as pd\n",
    "import seaborn as sns\n",
    "import matplotlib.pyplot as plt\n",
    "\n",
    "from sklearn.feature_extraction.text import TfidfVectorizer\n",
    "from sklearn.model_selection import train_test_split\n",
    "from sklearn.svm import SVR\n",
    "from sklearn.linear_model import Ridge\n",
    "from sklearn.metrics import mean_squared_error\n",
    "\n",
    "%matplotlib inline"
   ]
  },
  {
   "cell_type": "code",
   "execution_count": 2,
   "id": "90c788ed-44b1-43e8-82be-1290c65cf1d6",
   "metadata": {},
   "outputs": [
    {
     "data": {
      "text/html": [
       "<div>\n",
       "<style scoped>\n",
       "    .dataframe tbody tr th:only-of-type {\n",
       "        vertical-align: middle;\n",
       "    }\n",
       "\n",
       "    .dataframe tbody tr th {\n",
       "        vertical-align: top;\n",
       "    }\n",
       "\n",
       "    .dataframe thead th {\n",
       "        text-align: right;\n",
       "    }\n",
       "</style>\n",
       "<table border=\"1\" class=\"dataframe\">\n",
       "  <thead>\n",
       "    <tr style=\"text-align: right;\">\n",
       "      <th></th>\n",
       "      <th>author</th>\n",
       "      <th>bookformat</th>\n",
       "      <th>desc</th>\n",
       "      <th>genre</th>\n",
       "      <th>img</th>\n",
       "      <th>isbn</th>\n",
       "      <th>isbn13</th>\n",
       "      <th>link</th>\n",
       "      <th>pages</th>\n",
       "      <th>rating</th>\n",
       "      <th>reviews</th>\n",
       "      <th>title</th>\n",
       "      <th>totalratings</th>\n",
       "      <th>weighted_rating</th>\n",
       "    </tr>\n",
       "  </thead>\n",
       "  <tbody>\n",
       "    <tr>\n",
       "      <th>0</th>\n",
       "      <td>J.K. Rowling</td>\n",
       "      <td>Hardcover</td>\n",
       "      <td>Six years of magic, adventure, and mystery mak...</td>\n",
       "      <td>Adventure,Classics,Magic,Young Adult,Fantasy,F...</td>\n",
       "      <td>https://i.gr-assets.com/images/S/compressed.ph...</td>\n",
       "      <td>439827604</td>\n",
       "      <td>9.780000e+12</td>\n",
       "      <td>https://goodreads.com/book/show/10.Harry_Potte...</td>\n",
       "      <td>3342</td>\n",
       "      <td>4.73</td>\n",
       "      <td>923</td>\n",
       "      <td>Harry Potter Collection</td>\n",
       "      <td>31332</td>\n",
       "      <td>4.651838</td>\n",
       "    </tr>\n",
       "    <tr>\n",
       "      <th>1</th>\n",
       "      <td>Brandon Sanderson</td>\n",
       "      <td>Paperback</td>\n",
       "      <td>According to mythology mankind used to live in...</td>\n",
       "      <td>War,Magic,Novels,Adult,Fantasy,Fiction,Science...</td>\n",
       "      <td>https://i.gr-assets.com/images/S/compressed.ph...</td>\n",
       "      <td>575102489</td>\n",
       "      <td>9.780000e+12</td>\n",
       "      <td>https://goodreads.com/book/show/11221285-the-w...</td>\n",
       "      <td>530</td>\n",
       "      <td>4.79</td>\n",
       "      <td>741</td>\n",
       "      <td>The Way of Kings, Part 2</td>\n",
       "      <td>14458</td>\n",
       "      <td>4.625966</td>\n",
       "    </tr>\n",
       "    <tr>\n",
       "      <th>2</th>\n",
       "      <td>J.K. Rowling</td>\n",
       "      <td>Hardcover</td>\n",
       "      <td>Harry Potter is leaving Privet Drive for the l...</td>\n",
       "      <td>Adventure,Classics,Magic,Middle Grade,Fantasy,...</td>\n",
       "      <td>https://i.gr-assets.com/images/S/compressed.ph...</td>\n",
       "      <td>NaN</td>\n",
       "      <td>NaN</td>\n",
       "      <td>https://goodreads.com/book/show/136251.Harry_P...</td>\n",
       "      <td>759</td>\n",
       "      <td>4.62</td>\n",
       "      <td>68974</td>\n",
       "      <td>Harry Potter and the Deathly Hallows</td>\n",
       "      <td>2984351</td>\n",
       "      <td>4.619212</td>\n",
       "    </tr>\n",
       "  </tbody>\n",
       "</table>\n",
       "</div>"
      ],
      "text/plain": [
       "              author bookformat  \\\n",
       "0       J.K. Rowling  Hardcover   \n",
       "1  Brandon Sanderson  Paperback   \n",
       "2       J.K. Rowling  Hardcover   \n",
       "\n",
       "                                                desc  \\\n",
       "0  Six years of magic, adventure, and mystery mak...   \n",
       "1  According to mythology mankind used to live in...   \n",
       "2  Harry Potter is leaving Privet Drive for the l...   \n",
       "\n",
       "                                               genre  \\\n",
       "0  Adventure,Classics,Magic,Young Adult,Fantasy,F...   \n",
       "1  War,Magic,Novels,Adult,Fantasy,Fiction,Science...   \n",
       "2  Adventure,Classics,Magic,Middle Grade,Fantasy,...   \n",
       "\n",
       "                                                 img       isbn        isbn13  \\\n",
       "0  https://i.gr-assets.com/images/S/compressed.ph...  439827604  9.780000e+12   \n",
       "1  https://i.gr-assets.com/images/S/compressed.ph...  575102489  9.780000e+12   \n",
       "2  https://i.gr-assets.com/images/S/compressed.ph...        NaN           NaN   \n",
       "\n",
       "                                                link  pages  rating  reviews  \\\n",
       "0  https://goodreads.com/book/show/10.Harry_Potte...   3342    4.73      923   \n",
       "1  https://goodreads.com/book/show/11221285-the-w...    530    4.79      741   \n",
       "2  https://goodreads.com/book/show/136251.Harry_P...    759    4.62    68974   \n",
       "\n",
       "                                  title  totalratings  weighted_rating  \n",
       "0               Harry Potter Collection         31332         4.651838  \n",
       "1              The Way of Kings, Part 2         14458         4.625966  \n",
       "2  Harry Potter and the Deathly Hallows       2984351         4.619212  "
      ]
     },
     "execution_count": 2,
     "metadata": {},
     "output_type": "execute_result"
    }
   ],
   "source": [
    "df = pd.read_csv('50_genre_wr_gt_4.csv')\n",
    "df.head(3)"
   ]
  },
  {
   "cell_type": "code",
   "execution_count": 3,
   "id": "08368555-eaa1-4a46-8948-a7f62ace8593",
   "metadata": {},
   "outputs": [
    {
     "data": {
      "text/plain": [
       "(5015, 14)"
      ]
     },
     "execution_count": 3,
     "metadata": {},
     "output_type": "execute_result"
    }
   ],
   "source": [
    "df.shape"
   ]
  },
  {
   "cell_type": "code",
   "execution_count": 4,
   "id": "0e044e84-446d-432d-b085-2a52eb3d1e62",
   "metadata": {},
   "outputs": [
    {
     "data": {
      "text/plain": [
       "array(['Adventure,Classics,Magic,Young Adult,Fantasy,Fiction,Science Fiction Fantasy,Paranormal,Childrens',\n",
       "       'War,Magic,Novels,Adult,Fantasy,Fiction,Science Fiction Fantasy,Audiobook',\n",
       "       'Adventure,Classics,Magic,Middle Grade,Fantasy,Fiction,Audiobook,Young Adult,Science Fiction Fantasy,Childrens',\n",
       "       ...,\n",
       "       'Urban Fantasy,Magic,Mystery,Romance,Fantasy,Fiction,Paranormal',\n",
       "       'Classics,European Literature,Nonfiction,History',\n",
       "       'Adventure,Romance,Fantasy,Fiction,Middle Grade,Young Adult,Paranormal,Supernatural,Childrens'],\n",
       "      dtype=object)"
      ]
     },
     "execution_count": 4,
     "metadata": {},
     "output_type": "execute_result"
    }
   ],
   "source": [
    "df['genre'].unique()"
   ]
  },
  {
   "cell_type": "code",
   "execution_count": 5,
   "id": "f808d7c6-c977-4fc7-b6eb-646e584c0723",
   "metadata": {},
   "outputs": [],
   "source": [
    "# Dùng genre là features vector, dùng weighted rating làm giá trị rating ban đầu của user, bất kể khi nào user vote một item nào thì train lại đối với user đấy"
   ]
  },
  {
   "cell_type": "code",
   "execution_count": 6,
   "id": "613c0b4f-2c9d-4838-b8ec-61c02d1a14d2",
   "metadata": {},
   "outputs": [
    {
     "data": {
      "text/html": [
       "<div>\n",
       "<style scoped>\n",
       "    .dataframe tbody tr th:only-of-type {\n",
       "        vertical-align: middle;\n",
       "    }\n",
       "\n",
       "    .dataframe tbody tr th {\n",
       "        vertical-align: top;\n",
       "    }\n",
       "\n",
       "    .dataframe thead th {\n",
       "        text-align: right;\n",
       "    }\n",
       "</style>\n",
       "<table border=\"1\" class=\"dataframe\">\n",
       "  <thead>\n",
       "    <tr style=\"text-align: right;\">\n",
       "      <th></th>\n",
       "      <th>book_id</th>\n",
       "      <th>title</th>\n",
       "      <th>genre</th>\n",
       "      <th>base_rate</th>\n",
       "    </tr>\n",
       "  </thead>\n",
       "  <tbody>\n",
       "    <tr>\n",
       "      <th>0</th>\n",
       "      <td>1</td>\n",
       "      <td>Harry Potter Collection</td>\n",
       "      <td>Adventure,Classics,Magic,Young Adult,Fantasy,F...</td>\n",
       "      <td>4.651838</td>\n",
       "    </tr>\n",
       "    <tr>\n",
       "      <th>1</th>\n",
       "      <td>2</td>\n",
       "      <td>The Way of Kings, Part 2</td>\n",
       "      <td>War,Magic,Novels,Adult,Fantasy,Fiction,Science...</td>\n",
       "      <td>4.625966</td>\n",
       "    </tr>\n",
       "    <tr>\n",
       "      <th>2</th>\n",
       "      <td>3</td>\n",
       "      <td>Harry Potter and the Deathly Hallows</td>\n",
       "      <td>Adventure,Classics,Magic,Middle Grade,Fantasy,...</td>\n",
       "      <td>4.619212</td>\n",
       "    </tr>\n",
       "    <tr>\n",
       "      <th>3</th>\n",
       "      <td>4</td>\n",
       "      <td>Harry Potter and the Order of the Phoenix (Har...</td>\n",
       "      <td>Adventure,Classics,Magic,Young Adult,Middle Gr...</td>\n",
       "      <td>4.602790</td>\n",
       "    </tr>\n",
       "    <tr>\n",
       "      <th>4</th>\n",
       "      <td>5</td>\n",
       "      <td>The Lord of the Rings: The Art of the Fellowsh...</td>\n",
       "      <td>Classics,Adventure,Fantasy,Fiction,Science Fic...</td>\n",
       "      <td>4.583587</td>\n",
       "    </tr>\n",
       "  </tbody>\n",
       "</table>\n",
       "</div>"
      ],
      "text/plain": [
       "   book_id                                              title  \\\n",
       "0        1                            Harry Potter Collection   \n",
       "1        2                           The Way of Kings, Part 2   \n",
       "2        3               Harry Potter and the Deathly Hallows   \n",
       "3        4  Harry Potter and the Order of the Phoenix (Har...   \n",
       "4        5  The Lord of the Rings: The Art of the Fellowsh...   \n",
       "\n",
       "                                               genre  base_rate  \n",
       "0  Adventure,Classics,Magic,Young Adult,Fantasy,F...   4.651838  \n",
       "1  War,Magic,Novels,Adult,Fantasy,Fiction,Science...   4.625966  \n",
       "2  Adventure,Classics,Magic,Middle Grade,Fantasy,...   4.619212  \n",
       "3  Adventure,Classics,Magic,Young Adult,Middle Gr...   4.602790  \n",
       "4  Classics,Adventure,Fantasy,Fiction,Science Fic...   4.583587  "
      ]
     },
     "execution_count": 6,
     "metadata": {},
     "output_type": "execute_result"
    }
   ],
   "source": [
    "books = pd.DataFrame({\n",
    "    'book_id': np.arange(len(df)) + 1,\n",
    "    'title': df['title'].values,\n",
    "    'genre': df['genre'].values,\n",
    "    'base_rate': df['weighted_rating'].values\n",
    "})\n",
    "books.head()"
   ]
  },
  {
   "cell_type": "markdown",
   "id": "d11daafb-22f0-494d-895a-7656bbcbfaaf",
   "metadata": {},
   "source": [
    "# Top 10 những quyển sách khi user chưa vote"
   ]
  },
  {
   "cell_type": "code",
   "execution_count": 7,
   "id": "b8f35205-6946-49b5-801c-9a384e8790ed",
   "metadata": {},
   "outputs": [
    {
     "data": {
      "text/html": [
       "<div>\n",
       "<style scoped>\n",
       "    .dataframe tbody tr th:only-of-type {\n",
       "        vertical-align: middle;\n",
       "    }\n",
       "\n",
       "    .dataframe tbody tr th {\n",
       "        vertical-align: top;\n",
       "    }\n",
       "\n",
       "    .dataframe thead th {\n",
       "        text-align: right;\n",
       "    }\n",
       "</style>\n",
       "<table border=\"1\" class=\"dataframe\">\n",
       "  <thead>\n",
       "    <tr style=\"text-align: right;\">\n",
       "      <th></th>\n",
       "      <th>book_id</th>\n",
       "      <th>title</th>\n",
       "      <th>genre</th>\n",
       "      <th>base_rate</th>\n",
       "    </tr>\n",
       "  </thead>\n",
       "  <tbody>\n",
       "    <tr>\n",
       "      <th>0</th>\n",
       "      <td>1</td>\n",
       "      <td>Harry Potter Collection</td>\n",
       "      <td>Adventure,Classics,Magic,Young Adult,Fantasy,F...</td>\n",
       "      <td>4.651838</td>\n",
       "    </tr>\n",
       "    <tr>\n",
       "      <th>1</th>\n",
       "      <td>2</td>\n",
       "      <td>The Way of Kings, Part 2</td>\n",
       "      <td>War,Magic,Novels,Adult,Fantasy,Fiction,Science...</td>\n",
       "      <td>4.625966</td>\n",
       "    </tr>\n",
       "    <tr>\n",
       "      <th>2</th>\n",
       "      <td>3</td>\n",
       "      <td>Harry Potter and the Deathly Hallows</td>\n",
       "      <td>Adventure,Classics,Magic,Middle Grade,Fantasy,...</td>\n",
       "      <td>4.619212</td>\n",
       "    </tr>\n",
       "    <tr>\n",
       "      <th>3</th>\n",
       "      <td>4</td>\n",
       "      <td>Harry Potter and the Order of the Phoenix (Har...</td>\n",
       "      <td>Adventure,Classics,Magic,Young Adult,Middle Gr...</td>\n",
       "      <td>4.602790</td>\n",
       "    </tr>\n",
       "    <tr>\n",
       "      <th>4</th>\n",
       "      <td>5</td>\n",
       "      <td>The Lord of the Rings: The Art of the Fellowsh...</td>\n",
       "      <td>Classics,Adventure,Fantasy,Fiction,Science Fic...</td>\n",
       "      <td>4.583587</td>\n",
       "    </tr>\n",
       "    <tr>\n",
       "      <th>5</th>\n",
       "      <td>6</td>\n",
       "      <td>The Jesus Storybook Bible: Every Story Whisper...</td>\n",
       "      <td>Religion,Nonfiction,Childrens,Christian</td>\n",
       "      <td>4.542604</td>\n",
       "    </tr>\n",
       "    <tr>\n",
       "      <th>6</th>\n",
       "      <td>7</td>\n",
       "      <td>The Wise Man's Fear</td>\n",
       "      <td>Adventure,Magic,Adult,Fantasy,Fiction,Science ...</td>\n",
       "      <td>4.535398</td>\n",
       "    </tr>\n",
       "    <tr>\n",
       "      <th>7</th>\n",
       "      <td>8</td>\n",
       "      <td>Clockwork Angel; Clockwork Prince; Clockwork P...</td>\n",
       "      <td>Historical,Urban Fantasy,Romance,Science Ficti...</td>\n",
       "      <td>4.531528</td>\n",
       "    </tr>\n",
       "    <tr>\n",
       "      <th>8</th>\n",
       "      <td>9</td>\n",
       "      <td>The Revenge of the Baby-Sat</td>\n",
       "      <td>Sequential Art,Comics,Graphic Novels,Fiction,H...</td>\n",
       "      <td>4.518708</td>\n",
       "    </tr>\n",
       "    <tr>\n",
       "      <th>9</th>\n",
       "      <td>10</td>\n",
       "      <td>The Complete Maus</td>\n",
       "      <td>Autobiography,War,Sequential Art,Memoir,Histor...</td>\n",
       "      <td>4.516693</td>\n",
       "    </tr>\n",
       "  </tbody>\n",
       "</table>\n",
       "</div>"
      ],
      "text/plain": [
       "   book_id                                              title  \\\n",
       "0        1                            Harry Potter Collection   \n",
       "1        2                           The Way of Kings, Part 2   \n",
       "2        3               Harry Potter and the Deathly Hallows   \n",
       "3        4  Harry Potter and the Order of the Phoenix (Har...   \n",
       "4        5  The Lord of the Rings: The Art of the Fellowsh...   \n",
       "5        6  The Jesus Storybook Bible: Every Story Whisper...   \n",
       "6        7                                The Wise Man's Fear   \n",
       "7        8  Clockwork Angel; Clockwork Prince; Clockwork P...   \n",
       "8        9                        The Revenge of the Baby-Sat   \n",
       "9       10                                  The Complete Maus   \n",
       "\n",
       "                                               genre  base_rate  \n",
       "0  Adventure,Classics,Magic,Young Adult,Fantasy,F...   4.651838  \n",
       "1  War,Magic,Novels,Adult,Fantasy,Fiction,Science...   4.625966  \n",
       "2  Adventure,Classics,Magic,Middle Grade,Fantasy,...   4.619212  \n",
       "3  Adventure,Classics,Magic,Young Adult,Middle Gr...   4.602790  \n",
       "4  Classics,Adventure,Fantasy,Fiction,Science Fic...   4.583587  \n",
       "5            Religion,Nonfiction,Childrens,Christian   4.542604  \n",
       "6  Adventure,Magic,Adult,Fantasy,Fiction,Science ...   4.535398  \n",
       "7  Historical,Urban Fantasy,Romance,Science Ficti...   4.531528  \n",
       "8  Sequential Art,Comics,Graphic Novels,Fiction,H...   4.518708  \n",
       "9  Autobiography,War,Sequential Art,Memoir,Histor...   4.516693  "
      ]
     },
     "execution_count": 7,
     "metadata": {},
     "output_type": "execute_result"
    }
   ],
   "source": [
    "books.sort_values(by='base_rate', ascending=False).head(10)"
   ]
  },
  {
   "cell_type": "code",
   "execution_count": 8,
   "id": "fdbc7b4e-e942-47c7-af19-34bedbfedd37",
   "metadata": {},
   "outputs": [],
   "source": [
    "def get_book(book_id):\n",
    "    return books.loc[np.array(book_id) - 1]"
   ]
  },
  {
   "cell_type": "code",
   "execution_count": 9,
   "id": "3b029727-6e5c-44ed-9ecf-6b8f8da2ff85",
   "metadata": {},
   "outputs": [],
   "source": [
    "def features_vector(corpus):\n",
    "    vectorizer = TfidfVectorizer(tokenizer=lambda x: x.split(','))\n",
    "    return vectorizer.fit_transform(corpus).toarray()"
   ]
  },
  {
   "cell_type": "code",
   "execution_count": 10,
   "id": "9400d47a-07ac-4c21-901b-4cf714c33416",
   "metadata": {},
   "outputs": [],
   "source": [
    "def refit(X, y):\n",
    "    model = SVR(kernel='rbf',degree=50, C=0.5, epsilon=0.01, tol=0.001)\n",
    "    return model.fit(X, y)"
   ]
  },
  {
   "cell_type": "code",
   "execution_count": 11,
   "id": "7c952795-5d10-4933-b580-8f918e546cd8",
   "metadata": {},
   "outputs": [
    {
     "data": {
      "text/html": [
       "<div>\n",
       "<style scoped>\n",
       "    .dataframe tbody tr th:only-of-type {\n",
       "        vertical-align: middle;\n",
       "    }\n",
       "\n",
       "    .dataframe tbody tr th {\n",
       "        vertical-align: top;\n",
       "    }\n",
       "\n",
       "    .dataframe thead th {\n",
       "        text-align: right;\n",
       "    }\n",
       "</style>\n",
       "<table border=\"1\" class=\"dataframe\">\n",
       "  <thead>\n",
       "    <tr style=\"text-align: right;\">\n",
       "      <th></th>\n",
       "      <th>book_id</th>\n",
       "      <th>title</th>\n",
       "      <th>genre</th>\n",
       "      <th>rate</th>\n",
       "    </tr>\n",
       "  </thead>\n",
       "  <tbody>\n",
       "    <tr>\n",
       "      <th>0</th>\n",
       "      <td>1</td>\n",
       "      <td>Harry Potter Collection</td>\n",
       "      <td>Adventure,Classics,Magic,Young Adult,Fantasy,F...</td>\n",
       "      <td>4.651838</td>\n",
       "    </tr>\n",
       "    <tr>\n",
       "      <th>1</th>\n",
       "      <td>2</td>\n",
       "      <td>The Way of Kings, Part 2</td>\n",
       "      <td>War,Magic,Novels,Adult,Fantasy,Fiction,Science...</td>\n",
       "      <td>4.625966</td>\n",
       "    </tr>\n",
       "    <tr>\n",
       "      <th>2</th>\n",
       "      <td>3</td>\n",
       "      <td>Harry Potter and the Deathly Hallows</td>\n",
       "      <td>Adventure,Classics,Magic,Middle Grade,Fantasy,...</td>\n",
       "      <td>4.619212</td>\n",
       "    </tr>\n",
       "    <tr>\n",
       "      <th>3</th>\n",
       "      <td>4</td>\n",
       "      <td>Harry Potter and the Order of the Phoenix (Har...</td>\n",
       "      <td>Adventure,Classics,Magic,Young Adult,Middle Gr...</td>\n",
       "      <td>4.602790</td>\n",
       "    </tr>\n",
       "    <tr>\n",
       "      <th>4</th>\n",
       "      <td>5</td>\n",
       "      <td>The Lord of the Rings: The Art of the Fellowsh...</td>\n",
       "      <td>Classics,Adventure,Fantasy,Fiction,Science Fic...</td>\n",
       "      <td>4.583587</td>\n",
       "    </tr>\n",
       "  </tbody>\n",
       "</table>\n",
       "</div>"
      ],
      "text/plain": [
       "   book_id                                              title  \\\n",
       "0        1                            Harry Potter Collection   \n",
       "1        2                           The Way of Kings, Part 2   \n",
       "2        3               Harry Potter and the Deathly Hallows   \n",
       "3        4  Harry Potter and the Order of the Phoenix (Har...   \n",
       "4        5  The Lord of the Rings: The Art of the Fellowsh...   \n",
       "\n",
       "                                               genre      rate  \n",
       "0  Adventure,Classics,Magic,Young Adult,Fantasy,F...  4.651838  \n",
       "1  War,Magic,Novels,Adult,Fantasy,Fiction,Science...  4.625966  \n",
       "2  Adventure,Classics,Magic,Middle Grade,Fantasy,...  4.619212  \n",
       "3  Adventure,Classics,Magic,Young Adult,Middle Gr...  4.602790  \n",
       "4  Classics,Adventure,Fantasy,Fiction,Science Fic...  4.583587  "
      ]
     },
     "execution_count": 11,
     "metadata": {},
     "output_type": "execute_result"
    }
   ],
   "source": [
    "user = books.copy()\n",
    "user.rename(columns={'base_rate': 'rate'}, inplace=True)\n",
    "user.head()"
   ]
  },
  {
   "cell_type": "code",
   "execution_count": 12,
   "id": "aacd6d25-ee66-4949-aca3-07f393fbecab",
   "metadata": {},
   "outputs": [],
   "source": [
    "# tạo mảng đánh dấu những quyển sách mà user 1 đã vote\n",
    "fav_genre = 'Adventure'\n",
    "mark = np.zeros(user.shape[0], dtype='bool')\n",
    "genre = user['genre'].apply(lambda s: s.split(','))\n",
    "isin = lambda x: fav_genre in x"
   ]
  },
  {
   "cell_type": "code",
   "execution_count": 13,
   "id": "234424fd-d3f2-4040-9321-50ed796271ff",
   "metadata": {},
   "outputs": [],
   "source": [
    "mark[user[list(map(isin, genre))].index] = True\n",
    "user.loc[mark, 'rate'] = 5"
   ]
  },
  {
   "cell_type": "code",
   "execution_count": 14,
   "id": "9a387532-112e-44f1-899a-596159fe127d",
   "metadata": {},
   "outputs": [
    {
     "data": {
      "text/plain": [
       "949"
      ]
     },
     "execution_count": 14,
     "metadata": {},
     "output_type": "execute_result"
    }
   ],
   "source": [
    "sum(mark)"
   ]
  },
  {
   "cell_type": "code",
   "execution_count": 15,
   "id": "772b9007-b9cb-475d-8282-4d34153e69dc",
   "metadata": {},
   "outputs": [
    {
     "data": {
      "text/plain": [
       "((5015, 50), (5015,))"
      ]
     },
     "execution_count": 15,
     "metadata": {},
     "output_type": "execute_result"
    }
   ],
   "source": [
    "X = features_vector(list(user['genre']))\n",
    "y = user['rate'].values\n",
    "X.shape, y.shape"
   ]
  },
  {
   "cell_type": "code",
   "execution_count": 24,
   "id": "48573843-f5f6-4017-916c-4e99fd0e3ace",
   "metadata": {},
   "outputs": [],
   "source": [
    "xtrain, xtest, ytrain, ytest = train_test_split(X, y, test_size=.2, random_state=42)"
   ]
  },
  {
   "cell_type": "code",
   "execution_count": 30,
   "id": "23c80502-56da-4f6d-a770-43113b04ef40",
   "metadata": {},
   "outputs": [
    {
     "data": {
      "text/plain": [
       "Ridge(alpha=5)"
      ]
     },
     "execution_count": 30,
     "metadata": {},
     "output_type": "execute_result"
    }
   ],
   "source": [
    "model = Ridge(alpha=5)\n",
    "model.fit(xtrain, ytrain)"
   ]
  },
  {
   "cell_type": "code",
   "execution_count": 25,
   "id": "a4703975-bd01-4195-a64a-95165ac2dac9",
   "metadata": {},
   "outputs": [
    {
     "data": {
      "text/plain": [
       "SVR(C=0.5, degree=50, epsilon=0.01)"
      ]
     },
     "execution_count": 25,
     "metadata": {},
     "output_type": "execute_result"
    }
   ],
   "source": [
    "model = SVR(kernel='rbf',degree=50, C=0.5, epsilon=0.01, tol=0.001)\n",
    "model.fit(xtrain, ytrain)"
   ]
  },
  {
   "cell_type": "code",
   "execution_count": 31,
   "id": "c39c3640-467e-41c3-8977-40733e7ad0b9",
   "metadata": {},
   "outputs": [
    {
     "data": {
      "text/plain": [
       "0.9228298102859124"
      ]
     },
     "execution_count": 31,
     "metadata": {},
     "output_type": "execute_result"
    }
   ],
   "source": [
    "model.score(xtrain, ytrain)"
   ]
  },
  {
   "cell_type": "code",
   "execution_count": 32,
   "id": "28d7e4d6-8a23-41e5-8594-612745b91e19",
   "metadata": {},
   "outputs": [
    {
     "data": {
      "text/plain": [
       "0.9071030157011197"
      ]
     },
     "execution_count": 32,
     "metadata": {},
     "output_type": "execute_result"
    }
   ],
   "source": [
    "model.score(xtest, ytest)"
   ]
  },
  {
   "cell_type": "code",
   "execution_count": 18,
   "id": "9d49de99-49b2-403a-8722-5705e418893e",
   "metadata": {},
   "outputs": [],
   "source": [
    "data_new = user.copy()"
   ]
  },
  {
   "cell_type": "code",
   "execution_count": 19,
   "id": "841988d1-9b7d-47cf-b4fa-51bd71d774aa",
   "metadata": {},
   "outputs": [],
   "source": [
    "data_new.loc[~mark, 'rate'] = model.predict(X[~mark])"
   ]
  },
  {
   "cell_type": "code",
   "execution_count": 20,
   "id": "5a4bf789-d21b-48ff-a73b-b1cbaf018786",
   "metadata": {},
   "outputs": [
    {
     "data": {
      "text/html": [
       "<div>\n",
       "<style scoped>\n",
       "    .dataframe tbody tr th:only-of-type {\n",
       "        vertical-align: middle;\n",
       "    }\n",
       "\n",
       "    .dataframe tbody tr th {\n",
       "        vertical-align: top;\n",
       "    }\n",
       "\n",
       "    .dataframe thead th {\n",
       "        text-align: right;\n",
       "    }\n",
       "</style>\n",
       "<table border=\"1\" class=\"dataframe\">\n",
       "  <thead>\n",
       "    <tr style=\"text-align: right;\">\n",
       "      <th></th>\n",
       "      <th>book_id</th>\n",
       "      <th>title</th>\n",
       "      <th>genre</th>\n",
       "      <th>rate</th>\n",
       "    </tr>\n",
       "  </thead>\n",
       "  <tbody>\n",
       "    <tr>\n",
       "      <th>45</th>\n",
       "      <td>46</td>\n",
       "      <td>Rock Chick Revenge</td>\n",
       "      <td>Suspense,Romance,Erotica,Action,Adult Fiction,...</td>\n",
       "      <td>4.396919</td>\n",
       "    </tr>\n",
       "    <tr>\n",
       "      <th>88</th>\n",
       "      <td>89</td>\n",
       "      <td>Rock Chick Revolution</td>\n",
       "      <td>Suspense,Romance,Erotica,Action,Adult Fiction,...</td>\n",
       "      <td>4.396919</td>\n",
       "    </tr>\n",
       "    <tr>\n",
       "      <th>23</th>\n",
       "      <td>24</td>\n",
       "      <td>Rock Chick Regret</td>\n",
       "      <td>Suspense,Romance,Action,Adult,Chick Lit,Contem...</td>\n",
       "      <td>4.361766</td>\n",
       "    </tr>\n",
       "    <tr>\n",
       "      <th>77</th>\n",
       "      <td>78</td>\n",
       "      <td>Rock Chick Renegade</td>\n",
       "      <td>Suspense,Romance,Action,Adult,Chick Lit,Fictio...</td>\n",
       "      <td>4.355170</td>\n",
       "    </tr>\n",
       "    <tr>\n",
       "      <th>120</th>\n",
       "      <td>121</td>\n",
       "      <td>Rock Chick Reckoning</td>\n",
       "      <td>Suspense,Romance,Action,Adult,Chick Lit,Fictio...</td>\n",
       "      <td>4.355170</td>\n",
       "    </tr>\n",
       "    <tr>\n",
       "      <th>76</th>\n",
       "      <td>77</td>\n",
       "      <td>Kings Rising</td>\n",
       "      <td>Historical,Romance,Adult,Fantasy,Fiction</td>\n",
       "      <td>4.355031</td>\n",
       "    </tr>\n",
       "    <tr>\n",
       "      <th>124</th>\n",
       "      <td>125</td>\n",
       "      <td>Captive Prince: Volume Two</td>\n",
       "      <td>Historical,Romance,Adult,Fantasy,Fiction</td>\n",
       "      <td>4.355031</td>\n",
       "    </tr>\n",
       "    <tr>\n",
       "      <th>84</th>\n",
       "      <td>85</td>\n",
       "      <td>A Charlie Brown Christmas</td>\n",
       "      <td>Classics,Sequential Art,Comics,Christian,Young...</td>\n",
       "      <td>4.335308</td>\n",
       "    </tr>\n",
       "    <tr>\n",
       "      <th>52</th>\n",
       "      <td>53</td>\n",
       "      <td>The Coldest Winter Ever</td>\n",
       "      <td>Classics,Novels,Young Adult,Cultural,Adult Fic...</td>\n",
       "      <td>4.327491</td>\n",
       "    </tr>\n",
       "    <tr>\n",
       "      <th>12</th>\n",
       "      <td>13</td>\n",
       "      <td>Harry Potter Page to Screen: The Complete Film...</td>\n",
       "      <td>Magic,Adult,Fantasy,Nonfiction,Paranormal,Chil...</td>\n",
       "      <td>4.312906</td>\n",
       "    </tr>\n",
       "  </tbody>\n",
       "</table>\n",
       "</div>"
      ],
      "text/plain": [
       "     book_id                                              title  \\\n",
       "45        46                                 Rock Chick Revenge   \n",
       "88        89                              Rock Chick Revolution   \n",
       "23        24                                  Rock Chick Regret   \n",
       "77        78                                Rock Chick Renegade   \n",
       "120      121                               Rock Chick Reckoning   \n",
       "76        77                                       Kings Rising   \n",
       "124      125                         Captive Prince: Volume Two   \n",
       "84        85                          A Charlie Brown Christmas   \n",
       "52        53                            The Coldest Winter Ever   \n",
       "12        13  Harry Potter Page to Screen: The Complete Film...   \n",
       "\n",
       "                                                 genre      rate  \n",
       "45   Suspense,Romance,Erotica,Action,Adult Fiction,...  4.396919  \n",
       "88   Suspense,Romance,Erotica,Action,Adult Fiction,...  4.396919  \n",
       "23   Suspense,Romance,Action,Adult,Chick Lit,Contem...  4.361766  \n",
       "77   Suspense,Romance,Action,Adult,Chick Lit,Fictio...  4.355170  \n",
       "120  Suspense,Romance,Action,Adult,Chick Lit,Fictio...  4.355170  \n",
       "76            Historical,Romance,Adult,Fantasy,Fiction  4.355031  \n",
       "124           Historical,Romance,Adult,Fantasy,Fiction  4.355031  \n",
       "84   Classics,Sequential Art,Comics,Christian,Young...  4.335308  \n",
       "52   Classics,Novels,Young Adult,Cultural,Adult Fic...  4.327491  \n",
       "12   Magic,Adult,Fantasy,Nonfiction,Paranormal,Chil...  4.312906  "
      ]
     },
     "execution_count": 20,
     "metadata": {},
     "output_type": "execute_result"
    }
   ],
   "source": [
    "data_new[~mark].sort_values(by='rate', ascending=False).head(10)"
   ]
  },
  {
   "cell_type": "code",
   "execution_count": 21,
   "id": "99ae01a6-dee5-48dc-8ccd-56d6603a0f54",
   "metadata": {},
   "outputs": [
    {
     "data": {
      "text/plain": [
       "book_id                                                     46\n",
       "title                                       Rock Chick Revenge\n",
       "genre        Suspense,Romance,Erotica,Action,Adult Fiction,...\n",
       "base_rate                                             4.425164\n",
       "Name: 45, dtype: object"
      ]
     },
     "execution_count": 21,
     "metadata": {},
     "output_type": "execute_result"
    }
   ],
   "source": [
    "get_book(46)"
   ]
  },
  {
   "cell_type": "code",
   "execution_count": null,
   "id": "4ba494c7-f22a-4170-8d5c-935e09504ce3",
   "metadata": {},
   "outputs": [],
   "source": []
  }
 ],
 "metadata": {
  "kernelspec": {
   "display_name": "Python 3",
   "language": "python",
   "name": "python3"
  },
  "language_info": {
   "codemirror_mode": {
    "name": "ipython",
    "version": 3
   },
   "file_extension": ".py",
   "mimetype": "text/x-python",
   "name": "python",
   "nbconvert_exporter": "python",
   "pygments_lexer": "ipython3",
   "version": "3.8.8"
  }
 },
 "nbformat": 4,
 "nbformat_minor": 5
}
