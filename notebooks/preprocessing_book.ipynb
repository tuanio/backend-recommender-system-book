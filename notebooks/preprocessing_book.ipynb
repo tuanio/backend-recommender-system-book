{
 "cells": [
  {
   "cell_type": "code",
   "execution_count": 1,
   "metadata": {
    "colab": {
     "base_uri": "https://localhost:8080/"
    },
    "id": "3UhjApHo0gbW",
    "outputId": "27fd5b5c-f2f1-4b55-d4de-36fb6de5a5b8"
   },
   "outputs": [],
   "source": [
    "# from google.colab import drive\n",
    "# drive.mount('/content/drive')"
   ]
  },
  {
   "cell_type": "code",
   "execution_count": 2,
   "metadata": {
    "id": "uU-_3cwexjT8"
   },
   "outputs": [],
   "source": [
    "import pandas as pd\n",
    "import numpy as np\n",
    "from collections import Counter\n",
    "from functools import reduce\n",
    "from operator import add"
   ]
  },
  {
   "cell_type": "code",
   "execution_count": 3,
   "metadata": {
    "colab": {
     "base_uri": "https://localhost:8080/",
     "height": 632
    },
    "id": "uvc57Kw50kcK",
    "outputId": "75bba4d8-1461-49ac-9ad4-26eafe2bca86"
   },
   "outputs": [
    {
     "data": {
      "text/html": [
       "<div>\n",
       "<style scoped>\n",
       "    .dataframe tbody tr th:only-of-type {\n",
       "        vertical-align: middle;\n",
       "    }\n",
       "\n",
       "    .dataframe tbody tr th {\n",
       "        vertical-align: top;\n",
       "    }\n",
       "\n",
       "    .dataframe thead th {\n",
       "        text-align: right;\n",
       "    }\n",
       "</style>\n",
       "<table border=\"1\" class=\"dataframe\">\n",
       "  <thead>\n",
       "    <tr style=\"text-align: right;\">\n",
       "      <th></th>\n",
       "      <th>author</th>\n",
       "      <th>bookformat</th>\n",
       "      <th>desc</th>\n",
       "      <th>genre</th>\n",
       "      <th>img</th>\n",
       "      <th>isbn</th>\n",
       "      <th>isbn13</th>\n",
       "      <th>link</th>\n",
       "      <th>pages</th>\n",
       "      <th>rating</th>\n",
       "      <th>reviews</th>\n",
       "      <th>title</th>\n",
       "      <th>totalratings</th>\n",
       "      <th>weighted_rating</th>\n",
       "    </tr>\n",
       "  </thead>\n",
       "  <tbody>\n",
       "    <tr>\n",
       "      <th>0</th>\n",
       "      <td>J.K. Rowling</td>\n",
       "      <td>Hardcover</td>\n",
       "      <td>Six years of magic, adventure, and mystery mak...</td>\n",
       "      <td>Fantasy,Fiction,Young Adult,Fantasy,Magic,Chil...</td>\n",
       "      <td>https://i.gr-assets.com/images/S/compressed.ph...</td>\n",
       "      <td>439827604</td>\n",
       "      <td>9.780000e+12</td>\n",
       "      <td>https://goodreads.com/book/show/10.Harry_Potte...</td>\n",
       "      <td>3342</td>\n",
       "      <td>4.73</td>\n",
       "      <td>923</td>\n",
       "      <td>Harry Potter Collection</td>\n",
       "      <td>31332</td>\n",
       "      <td>4.651838</td>\n",
       "    </tr>\n",
       "    <tr>\n",
       "      <th>1</th>\n",
       "      <td>Brandon Sanderson</td>\n",
       "      <td>Paperback</td>\n",
       "      <td>According to mythology mankind used to live in...</td>\n",
       "      <td>Fantasy,Fiction,Fantasy,Epic Fantasy,Fantasy,H...</td>\n",
       "      <td>https://i.gr-assets.com/images/S/compressed.ph...</td>\n",
       "      <td>575102489</td>\n",
       "      <td>9.780000e+12</td>\n",
       "      <td>https://goodreads.com/book/show/11221285-the-w...</td>\n",
       "      <td>530</td>\n",
       "      <td>4.79</td>\n",
       "      <td>741</td>\n",
       "      <td>The Way of Kings, Part 2</td>\n",
       "      <td>14458</td>\n",
       "      <td>4.625966</td>\n",
       "    </tr>\n",
       "    <tr>\n",
       "      <th>2</th>\n",
       "      <td>J.K. Rowling</td>\n",
       "      <td>Hardcover</td>\n",
       "      <td>Harry Potter is leaving Privet Drive for the l...</td>\n",
       "      <td>Fantasy,Young Adult,Fiction,Fantasy,Magic,Chil...</td>\n",
       "      <td>https://i.gr-assets.com/images/S/compressed.ph...</td>\n",
       "      <td>NaN</td>\n",
       "      <td>NaN</td>\n",
       "      <td>https://goodreads.com/book/show/136251.Harry_P...</td>\n",
       "      <td>759</td>\n",
       "      <td>4.62</td>\n",
       "      <td>68974</td>\n",
       "      <td>Harry Potter and the Deathly Hallows</td>\n",
       "      <td>2984351</td>\n",
       "      <td>4.619212</td>\n",
       "    </tr>\n",
       "    <tr>\n",
       "      <th>3</th>\n",
       "      <td>J.K. Rowling</td>\n",
       "      <td>Audiobook</td>\n",
       "      <td>'You are sharing the Dark Lord's thoughts and ...</td>\n",
       "      <td>Fantasy,Fiction,Young Adult,Fantasy,Magic,Chil...</td>\n",
       "      <td>https://i.gr-assets.com/images/S/compressed.ph...</td>\n",
       "      <td>185549664X</td>\n",
       "      <td>9.780000e+12</td>\n",
       "      <td>https://goodreads.com/book/show/1317181.Harry_...</td>\n",
       "      <td>412</td>\n",
       "      <td>4.62</td>\n",
       "      <td>640</td>\n",
       "      <td>Harry Potter and the Order of the Phoenix (Har...</td>\n",
       "      <td>133779</td>\n",
       "      <td>4.602790</td>\n",
       "    </tr>\n",
       "    <tr>\n",
       "      <th>4</th>\n",
       "      <td>Gary Russell</td>\n",
       "      <td>Hardcover</td>\n",
       "      <td>With complete and unrestricted access to artwo...</td>\n",
       "      <td>Fantasy,Art,Fiction,Culture,Film,Classics,Medi...</td>\n",
       "      <td>https://i.gr-assets.com/images/S/compressed.ph...</td>\n",
       "      <td>618212906</td>\n",
       "      <td>9.780000e+12</td>\n",
       "      <td>https://goodreads.com/book/show/119.The_Lord_o...</td>\n",
       "      <td>192</td>\n",
       "      <td>4.62</td>\n",
       "      <td>125</td>\n",
       "      <td>The Lord of the Rings: The Art of the Fellowsh...</td>\n",
       "      <td>61649</td>\n",
       "      <td>4.583587</td>\n",
       "    </tr>\n",
       "  </tbody>\n",
       "</table>\n",
       "</div>"
      ],
      "text/plain": [
       "              author bookformat  \\\n",
       "0       J.K. Rowling  Hardcover   \n",
       "1  Brandon Sanderson  Paperback   \n",
       "2       J.K. Rowling  Hardcover   \n",
       "3       J.K. Rowling  Audiobook   \n",
       "4       Gary Russell  Hardcover   \n",
       "\n",
       "                                                desc  \\\n",
       "0  Six years of magic, adventure, and mystery mak...   \n",
       "1  According to mythology mankind used to live in...   \n",
       "2  Harry Potter is leaving Privet Drive for the l...   \n",
       "3  'You are sharing the Dark Lord's thoughts and ...   \n",
       "4  With complete and unrestricted access to artwo...   \n",
       "\n",
       "                                               genre  \\\n",
       "0  Fantasy,Fiction,Young Adult,Fantasy,Magic,Chil...   \n",
       "1  Fantasy,Fiction,Fantasy,Epic Fantasy,Fantasy,H...   \n",
       "2  Fantasy,Young Adult,Fiction,Fantasy,Magic,Chil...   \n",
       "3  Fantasy,Fiction,Young Adult,Fantasy,Magic,Chil...   \n",
       "4  Fantasy,Art,Fiction,Culture,Film,Classics,Medi...   \n",
       "\n",
       "                                                 img        isbn  \\\n",
       "0  https://i.gr-assets.com/images/S/compressed.ph...   439827604   \n",
       "1  https://i.gr-assets.com/images/S/compressed.ph...   575102489   \n",
       "2  https://i.gr-assets.com/images/S/compressed.ph...         NaN   \n",
       "3  https://i.gr-assets.com/images/S/compressed.ph...  185549664X   \n",
       "4  https://i.gr-assets.com/images/S/compressed.ph...   618212906   \n",
       "\n",
       "         isbn13                                               link  pages  \\\n",
       "0  9.780000e+12  https://goodreads.com/book/show/10.Harry_Potte...   3342   \n",
       "1  9.780000e+12  https://goodreads.com/book/show/11221285-the-w...    530   \n",
       "2           NaN  https://goodreads.com/book/show/136251.Harry_P...    759   \n",
       "3  9.780000e+12  https://goodreads.com/book/show/1317181.Harry_...    412   \n",
       "4  9.780000e+12  https://goodreads.com/book/show/119.The_Lord_o...    192   \n",
       "\n",
       "   rating  reviews                                              title  \\\n",
       "0    4.73      923                            Harry Potter Collection   \n",
       "1    4.79      741                           The Way of Kings, Part 2   \n",
       "2    4.62    68974               Harry Potter and the Deathly Hallows   \n",
       "3    4.62      640  Harry Potter and the Order of the Phoenix (Har...   \n",
       "4    4.62      125  The Lord of the Rings: The Art of the Fellowsh...   \n",
       "\n",
       "   totalratings  weighted_rating  \n",
       "0         31332         4.651838  \n",
       "1         14458         4.625966  \n",
       "2       2984351         4.619212  \n",
       "3        133779         4.602790  \n",
       "4         61649         4.583587  "
      ]
     },
     "execution_count": 3,
     "metadata": {},
     "output_type": "execute_result"
    }
   ],
   "source": [
    "df = pd.read_csv('top_weighted_rating_gt_4.csv')\n",
    "df.head()"
   ]
  },
  {
   "cell_type": "code",
   "execution_count": 4,
   "metadata": {
    "id": "yH7oMKvNEdO5"
   },
   "outputs": [],
   "source": [
    "# df['genre'].fillna('', inplace=True)\n",
    "df = df[~(df['genre'].isna())]"
   ]
  },
  {
   "cell_type": "code",
   "execution_count": 5,
   "metadata": {
    "colab": {
     "base_uri": "https://localhost:8080/"
    },
    "id": "IugThfMjFNTs",
    "outputId": "5178dcb5-2813-4f08-9649-a2129577c416"
   },
   "outputs": [
    {
     "data": {
      "text/plain": [
       "(5017, 14)"
      ]
     },
     "execution_count": 5,
     "metadata": {},
     "output_type": "execute_result"
    }
   ],
   "source": [
    "df.shape"
   ]
  },
  {
   "cell_type": "code",
   "execution_count": 6,
   "metadata": {
    "colab": {
     "base_uri": "https://localhost:8080/"
    },
    "id": "iP7TwEtCE61G",
    "outputId": "cecb7d65-200d-48ac-b7e8-5e6eb57d8f60"
   },
   "outputs": [
    {
     "data": {
      "text/plain": [
       "0"
      ]
     },
     "execution_count": 6,
     "metadata": {},
     "output_type": "execute_result"
    }
   ],
   "source": [
    "df['genre'].isna().sum()"
   ]
  },
  {
   "cell_type": "code",
   "execution_count": 7,
   "metadata": {
    "id": "BcSTKV_n6vg9"
   },
   "outputs": [],
   "source": [
    "genre_array = df['genre'].apply(lambda x: x.split(',')).values"
   ]
  },
  {
   "cell_type": "code",
   "execution_count": 8,
   "metadata": {
    "id": "mt23QKI68Ze2"
   },
   "outputs": [],
   "source": [
    "genre_count = reduce(add, [Counter(list(set(i))) for i in genre_array])"
   ]
  },
  {
   "cell_type": "code",
   "execution_count": 9,
   "metadata": {
    "colab": {
     "base_uri": "https://localhost:8080/"
    },
    "id": "MmbnXnwYEitT",
    "outputId": "ba249fef-a6fc-4404-9dab-e22c1dd7a9ac"
   },
   "outputs": [
    {
     "data": {
      "text/plain": [
       "[('Fiction', 3260),\n",
       " ('Fantasy', 1955),\n",
       " ('Romance', 1779),\n",
       " ('Young Adult', 1262),\n",
       " ('Nonfiction', 1128),\n",
       " ('Adult', 1007),\n",
       " ('Adventure', 949),\n",
       " ('Audiobook', 936),\n",
       " ('Contemporary', 878),\n",
       " ('Historical', 814),\n",
       " ('Mystery', 797),\n",
       " ('Paranormal', 789),\n",
       " ('Childrens', 760),\n",
       " ('Sequential Art', 758),\n",
       " ('Cultural', 753),\n",
       " ('Graphic Novels', 731),\n",
       " ('Comics', 699),\n",
       " ('Classics', 691),\n",
       " ('Science Fiction', 682),\n",
       " ('Historical Fiction', 660),\n",
       " ('Literature', 616),\n",
       " ('Magic', 612),\n",
       " ('Humor', 561),\n",
       " ('Adult Fiction', 480),\n",
       " ('Thriller', 477),\n",
       " ('Urban Fantasy', 474),\n",
       " ('Supernatural', 452),\n",
       " ('Manga', 450),\n",
       " ('Novels', 440),\n",
       " ('Paranormal Romance', 436),\n",
       " ('Contemporary Romance', 433),\n",
       " ('History', 423),\n",
       " ('Biography', 399),\n",
       " ('Crime', 397),\n",
       " ('Suspense', 389),\n",
       " ('War', 367),\n",
       " ('Middle Grade', 366),\n",
       " ('European Literature', 361),\n",
       " ('Religion', 360),\n",
       " ('Science Fiction Fantasy', 340),\n",
       " ('Christian', 336),\n",
       " ('Womens Fiction', 308)]"
      ]
     },
     "execution_count": 9,
     "metadata": {},
     "output_type": "execute_result"
    }
   ],
   "source": [
    "# lấy top 42 genre nhiều người xem nhất\n",
    "top_common = genre_count.most_common(42)\n",
    "top_common"
   ]
  },
  {
   "cell_type": "code",
   "execution_count": 10,
   "metadata": {
    "id": "wceKugsRFnH3"
   },
   "outputs": [],
   "source": [
    "top_common = dict(top_common)"
   ]
  },
  {
   "cell_type": "code",
   "execution_count": 11,
   "metadata": {
    "id": "oJtehi0ICJ-k"
   },
   "outputs": [],
   "source": [
    "# chỉ lấy những genre thuộc top 30\n",
    "df['genre'] = df['genre'].apply(lambda x: list(set([i for i in x.split(',') if i in top_common.keys()])))\n",
    "\n",
    "# nếu genre rỗng thì cho là None\n",
    "df['genre'] = df['genre'].apply(lambda x: None if not x else x)\n",
    "\n",
    "# bỏ nan\n",
    "df = df[~(df['genre'].isna())]"
   ]
  },
  {
   "cell_type": "code",
   "execution_count": 12,
   "metadata": {
    "id": "UmosBHQOGqzd"
   },
   "outputs": [],
   "source": [
    "df['genre'] = df['genre'].apply(lambda x: ','.join(x))"
   ]
  },
  {
   "cell_type": "code",
   "execution_count": 16,
   "metadata": {},
   "outputs": [],
   "source": [
    "df = df[~(df['desc'].isna())]"
   ]
  },
  {
   "cell_type": "code",
   "execution_count": 17,
   "metadata": {
    "colab": {
     "base_uri": "https://localhost:8080/"
    },
    "id": "Lvvt8hiPCsmA",
    "outputId": "33e91b38-1f12-470d-97da-d604b5925bf2"
   },
   "outputs": [
    {
     "data": {
      "text/plain": [
       "(4985, 14)"
      ]
     },
     "execution_count": 17,
     "metadata": {},
     "output_type": "execute_result"
    }
   ],
   "source": [
    "df.shape"
   ]
  },
  {
   "cell_type": "code",
   "execution_count": 18,
   "metadata": {
    "id": "ra3nym0TGkad"
   },
   "outputs": [],
   "source": [
    "df.to_csv('book_preprocessed.csv', index=False)"
   ]
  }
 ],
 "metadata": {
  "colab": {
   "collapsed_sections": [],
   "name": "preprocessing_book.ipynb",
   "provenance": []
  },
  "kernelspec": {
   "display_name": "Python 3",
   "language": "python",
   "name": "python3"
  },
  "language_info": {
   "codemirror_mode": {
    "name": "ipython",
    "version": 3
   },
   "file_extension": ".py",
   "mimetype": "text/x-python",
   "name": "python",
   "nbconvert_exporter": "python",
   "pygments_lexer": "ipython3",
   "version": "3.8.8"
  }
 },
 "nbformat": 4,
 "nbformat_minor": 4
}
